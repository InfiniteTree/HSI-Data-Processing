{
 "cells": [
  {
   "cell_type": "code",
   "execution_count": 10,
   "id": "b3059932",
   "metadata": {},
   "outputs": [
    {
     "name": "stdout",
     "output_type": "stream",
     "text": [
      "原始矩阵:\n",
      "[[[1 1 5 1 0]\n",
      "  [2 6 1 4 0]\n",
      "  [6 3 0 0 6]]\n",
      "\n",
      " [[2 4 3 6 4]\n",
      "  [3 4 5 2 9]\n",
      "  [0 9 2 1 6]]\n",
      "\n",
      " [[4 2 4 5 0]\n",
      "  [2 6 3 4 4]\n",
      "  [1 2 8 4 4]]\n",
      "\n",
      " [[5 1 7 9 6]\n",
      "  [1 9 9 4 5]\n",
      "  [9 2 0 6 5]]]\n",
      "\n",
      "(4, 3, 5)\n",
      "(4, 5, 3)\n",
      "(4, 5)\n"
     ]
    }
   ],
   "source": [
    "import numpy as np\n",
    "\n",
    "matrix = np.random.randint(0, 10, size=(4, 3, 5))\n",
    "print(\"原始矩阵:\")\n",
    "print(matrix)\n",
    "print()\n",
    "\n",
    "print(matrix.shape)\n",
    "\n",
    "transposed_matrix = np.transpose(matrix, (0, 2, 1))\n",
    "print(transposed_matrix.shape)\n",
    "\n",
    "mask = np.array([[True, False, True, False, True],\n",
    "                [False, True, False, True, False],\n",
    "                [True, False, True, False, True],\n",
    "                [False, True, False, True, False]])\n",
    "\n",
    "print(mask.shape)\n"
   ]
  },
  {
   "cell_type": "code",
   "execution_count": 11,
   "id": "3ea4b7a8",
   "metadata": {},
   "outputs": [],
   "source": [
    "transposed_matrix[mask,:] = 0"
   ]
  },
  {
   "cell_type": "code",
   "execution_count": null,
   "id": "96ac94b1",
   "metadata": {},
   "outputs": [],
   "source": []
  },
  {
   "cell_type": "code",
   "execution_count": 13,
   "id": "9b8f6794",
   "metadata": {},
   "outputs": [
    {
     "name": "stdout",
     "output_type": "stream",
     "text": [
      "[[[0 1 0 1 0]\n",
      "  [0 6 0 4 0]\n",
      "  [0 3 0 0 0]]\n",
      "\n",
      " [[2 0 3 0 4]\n",
      "  [3 0 5 0 9]\n",
      "  [0 0 2 0 6]]\n",
      "\n",
      " [[0 2 0 5 0]\n",
      "  [0 6 0 4 0]\n",
      "  [0 2 0 4 0]]\n",
      "\n",
      " [[5 0 7 0 6]\n",
      "  [1 0 9 0 5]\n",
      "  [9 0 0 0 5]]]\n"
     ]
    }
   ],
   "source": [
    "matrix_new = np.transpose(transposed_matrix, (0, 2, 1))\n",
    "print(matrix_new)"
   ]
  },
  {
   "cell_type": "code",
   "execution_count": null,
   "id": "d873491e",
   "metadata": {},
   "outputs": [],
   "source": []
  }
 ],
 "metadata": {
  "kernelspec": {
   "display_name": "Python 3 (ipykernel)",
   "language": "python",
   "name": "python3"
  },
  "language_info": {
   "codemirror_mode": {
    "name": "ipython",
    "version": 3
   },
   "file_extension": ".py",
   "mimetype": "text/x-python",
   "name": "python",
   "nbconvert_exporter": "python",
   "pygments_lexer": "ipython3",
   "version": "3.10.9"
  }
 },
 "nbformat": 4,
 "nbformat_minor": 5
}
