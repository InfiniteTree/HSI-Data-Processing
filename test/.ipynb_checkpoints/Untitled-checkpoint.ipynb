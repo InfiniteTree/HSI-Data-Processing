{
 "cells": [
  {
   "cell_type": "code",
   "execution_count": 9,
   "id": "279281a5",
   "metadata": {},
   "outputs": [
    {
     "name": "stdout",
     "output_type": "stream",
     "text": [
      "原始矩阵:\n",
      "[[[2 2 8 0 0]\n",
      "  [3 6 7 9 3]\n",
      "  [0 8 3 0 7]]\n",
      "\n",
      " [[4 8 1 5 9]\n",
      "  [0 9 5 6 4]\n",
      "  [4 6 2 6 2]]\n",
      "\n",
      " [[9 9 9 1 6]\n",
      "  [0 9 5 8 0]\n",
      "  [3 2 9 2 7]]\n",
      "\n",
      " [[1 3 6 4 4]\n",
      "  [8 6 9 1 1]\n",
      "  [4 8 5 6 8]]]\n",
      "\n",
      "(4, 3, 5)\n",
      "(4, 5, 3)\n",
      "[[[2 3 0]\n",
      "  [2 6 8]\n",
      "  [8 7 3]\n",
      "  [0 9 0]\n",
      "  [0 3 7]]\n",
      "\n",
      " [[4 0 4]\n",
      "  [8 9 6]\n",
      "  [1 5 2]\n",
      "  [5 6 6]\n",
      "  [9 4 2]]\n",
      "\n",
      " [[9 0 3]\n",
      "  [9 9 2]\n",
      "  [9 5 9]\n",
      "  [1 8 2]\n",
      "  [6 0 7]]\n",
      "\n",
      " [[1 8 4]\n",
      "  [3 6 8]\n",
      "  [6 9 5]\n",
      "  [4 1 6]\n",
      "  [4 1 8]]]\n",
      "(4, 5)\n"
     ]
    }
   ],
   "source": [
    "import numpy as np\n",
    "\n",
    "matrix = np.random.randint(0, 10, size=(4, 3, 5))\n",
    "print(\"原始矩阵:\")\n",
    "print(matrix)\n",
    "print()\n",
    "\n",
    "print(matrix.shape)\n",
    "\n",
    "transposed_matrix = np.transpose(matrix, (0, 2, 1))\n",
    "print(transposed_matrix.shape)\n",
    "print(transposed_matrix)\n",
    "\n",
    "mask = np.array([[True, False, True, False, True],\n",
    "                [False, True, False, True, False],\n",
    "                [True, False, True, False, True],\n",
    "                [False, True, False, True, False]])\n",
    "\n",
    "\n",
    "\n",
    "print(mask.shape)\n"
   ]
  },
  {
   "cell_type": "code",
   "execution_count": null,
   "id": "a733b8a9",
   "metadata": {},
   "outputs": [],
   "source": []
  },
  {
   "cell_type": "code",
   "execution_count": null,
   "id": "9050d731",
   "metadata": {},
   "outputs": [],
   "source": []
  }
 ],
 "metadata": {
  "kernelspec": {
   "display_name": "Python 3 (ipykernel)",
   "language": "python",
   "name": "python3"
  },
  "language_info": {
   "codemirror_mode": {
    "name": "ipython",
    "version": 3
   },
   "file_extension": ".py",
   "mimetype": "text/x-python",
   "name": "python",
   "nbconvert_exporter": "python",
   "pygments_lexer": "ipython3",
   "version": "3.10.9"
  }
 },
 "nbformat": 4,
 "nbformat_minor": 5
}
