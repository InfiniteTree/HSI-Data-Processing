{
 "cells": [
  {
   "cell_type": "code",
   "execution_count": 2,
   "id": "1dd0f721",
   "metadata": {},
   "outputs": [],
   "source": [
    "a = [[[31.0, 755.0], [69.0, 791.0]], [[34.0, 704.0], [68.0, 746.0]]]"
   ]
  },
  {
   "cell_type": "code",
   "execution_count": 4,
   "id": "0e7cba75",
   "metadata": {},
   "outputs": [
    {
     "name": "stdout",
     "output_type": "stream",
     "text": [
      "31.0\n"
     ]
    }
   ],
   "source": [
    "print(a[0][0][0])"
   ]
  },
  {
   "cell_type": "code",
   "execution_count": null,
   "id": "b537caf6",
   "metadata": {},
   "outputs": [],
   "source": []
  }
 ],
 "metadata": {
  "kernelspec": {
   "display_name": "Python 3 (ipykernel)",
   "language": "python",
   "name": "python3"
  },
  "language_info": {
   "codemirror_mode": {
    "name": "ipython",
    "version": 3
   },
   "file_extension": ".py",
   "mimetype": "text/x-python",
   "name": "python",
   "nbconvert_exporter": "python",
   "pygments_lexer": "ipython3",
   "version": "3.10.9"
  }
 },
 "nbformat": 4,
 "nbformat_minor": 5
}
