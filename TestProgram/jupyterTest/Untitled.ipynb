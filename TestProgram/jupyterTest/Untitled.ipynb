{
 "cells": [
  {
   "cell_type": "code",
   "execution_count": 1,
   "id": "21db86dd",
   "metadata": {},
   "outputs": [],
   "source": [
    "import numpy as np"
   ]
  },
  {
   "cell_type": "code",
   "execution_count": 10,
   "id": "b3059932",
   "metadata": {},
   "outputs": [
    {
     "name": "stdout",
     "output_type": "stream",
     "text": [
      "原始矩阵:\n",
      "[[[1 1 5 1 0]\n",
      "  [2 6 1 4 0]\n",
      "  [6 3 0 0 6]]\n",
      "\n",
      " [[2 4 3 6 4]\n",
      "  [3 4 5 2 9]\n",
      "  [0 9 2 1 6]]\n",
      "\n",
      " [[4 2 4 5 0]\n",
      "  [2 6 3 4 4]\n",
      "  [1 2 8 4 4]]\n",
      "\n",
      " [[5 1 7 9 6]\n",
      "  [1 9 9 4 5]\n",
      "  [9 2 0 6 5]]]\n",
      "\n",
      "(4, 3, 5)\n",
      "(4, 5, 3)\n",
      "(4, 5)\n"
     ]
    }
   ],
   "source": [
    "matrix = np.random.randint(0, 10, size=(4, 3, 5))\n",
    "print(\"原始矩阵:\")\n",
    "print(matrix)\n",
    "print()\n",
    "\n",
    "print(matrix.shape)\n",
    "\n",
    "transposed_matrix = np.transpose(matrix, (0, 2, 1))\n",
    "print(transposed_matrix.shape)\n",
    "\n",
    "mask = np.array([[True, False, True, False, True],\n",
    "                [False, True, False, True, False],\n",
    "                [True, False, True, False, True],\n",
    "                [False, True, False, True, False]])\n",
    "\n",
    "print(mask.shape)\n"
   ]
  },
  {
   "cell_type": "code",
   "execution_count": 11,
   "id": "3ea4b7a8",
   "metadata": {},
   "outputs": [],
   "source": [
    "transposed_matrix[mask,:] = 0"
   ]
  },
  {
   "cell_type": "code",
   "execution_count": null,
   "id": "96ac94b1",
   "metadata": {},
   "outputs": [],
   "source": []
  },
  {
   "cell_type": "code",
   "execution_count": 13,
   "id": "9b8f6794",
   "metadata": {},
   "outputs": [
    {
     "name": "stdout",
     "output_type": "stream",
     "text": [
      "[[[0 1 0 1 0]\n",
      "  [0 6 0 4 0]\n",
      "  [0 3 0 0 0]]\n",
      "\n",
      " [[2 0 3 0 4]\n",
      "  [3 0 5 0 9]\n",
      "  [0 0 2 0 6]]\n",
      "\n",
      " [[0 2 0 5 0]\n",
      "  [0 6 0 4 0]\n",
      "  [0 2 0 4 0]]\n",
      "\n",
      " [[5 0 7 0 6]\n",
      "  [1 0 9 0 5]\n",
      "  [9 0 0 0 5]]]\n"
     ]
    }
   ],
   "source": [
    "matrix_new = np.transpose(transposed_matrix, (0, 2, 1))\n",
    "print(matrix_new)"
   ]
  },
  {
   "cell_type": "code",
   "execution_count": 2,
   "id": "d873491e",
   "metadata": {},
   "outputs": [],
   "source": [
    "matrix = np.array([[True, False, True],\n",
    "                   [False, True, False],\n",
    "                   [True, True, False]])\n",
    "\n",
    "# 统计 True 的个数\n",
    "count_true = np.count_nonzero(matrix)"
   ]
  },
  {
   "cell_type": "code",
   "execution_count": 3,
   "id": "27c5d119",
   "metadata": {},
   "outputs": [
    {
     "name": "stdout",
     "output_type": "stream",
     "text": [
      "True 的个数: 5\n"
     ]
    }
   ],
   "source": [
    "print(\"True 的个数:\", count_true)"
   ]
  },
  {
   "cell_type": "code",
   "execution_count": 9,
   "id": "436e6d4b",
   "metadata": {},
   "outputs": [
    {
     "name": "stdout",
     "output_type": "stream",
     "text": [
      "[[ True  True  True]\n",
      " [ True  True  True]\n",
      " [False False False]]\n"
     ]
    }
   ],
   "source": [
    "MaxAmplMatrix = np.array([[10, 20, 30],\n",
    "                 [100,200, 300],\n",
    "                 [400,500,900]])\n",
    "ShadowTHValue = 400\n",
    "level2_1_mask = MaxAmplMatrix < ShadowTHValue\n",
    "print(level2_1_mask)"
   ]
  },
  {
   "cell_type": "code",
   "execution_count": 12,
   "id": "a27b74f3",
   "metadata": {},
   "outputs": [
    {
     "name": "stdout",
     "output_type": "stream",
     "text": [
      "6\n"
     ]
    }
   ],
   "source": [
    "SD_counter = np.count_nonzero(level2_1_mask)\n",
    "print(SD_counter)"
   ]
  },
  {
   "cell_type": "code",
   "execution_count": 1,
   "id": "f825c9b9",
   "metadata": {},
   "outputs": [],
   "source": [
    "a = \"C:/Users/AlexChen/Desktop/HSI_DP_local/RefBoard/3.csv\""
   ]
  },
  {
   "cell_type": "code",
   "execution_count": 8,
   "id": "6d7d55fb",
   "metadata": {},
   "outputs": [
    {
     "name": "stdout",
     "output_type": "stream",
     "text": [
      "/3.csv\n"
     ]
    }
   ],
   "source": [
    "print(a[-6:])"
   ]
  },
  {
   "cell_type": "code",
   "execution_count": null,
   "id": "133f7fb2",
   "metadata": {},
   "outputs": [],
   "source": []
  },
  {
   "cell_type": "code",
   "execution_count": 15,
   "id": "fd15bdf0",
   "metadata": {},
   "outputs": [
    {
     "name": "stdout",
     "output_type": "stream",
     "text": [
      "0\n"
     ]
    }
   ],
   "source": [
    "class test:\n",
    "    a = 0\n",
    "    def __init__(self):\n",
    "        a = 1\n",
    "        func(a)\n",
    "    def func(self,a):\n",
    "        self.a = 2\n",
    "\n",
    "test()\n",
    "print(test.a)"
   ]
  },
  {
   "cell_type": "code",
   "execution_count": 18,
   "id": "7367aefe",
   "metadata": {},
   "outputs": [
    {
     "name": "stdout",
     "output_type": "stream",
     "text": [
      "2\n",
      "2\n"
     ]
    }
   ],
   "source": [
    "a = 1\n",
    "b = 2\n",
    "a = b\n",
    "print(a)\n",
    "b = 3\n",
    "print(a)"
   ]
  },
  {
   "cell_type": "code",
   "execution_count": 19,
   "id": "946f99a0",
   "metadata": {},
   "outputs": [
    {
     "name": "stdout",
     "output_type": "stream",
     "text": [
      "Thread is running.Main thread continues.\n",
      "\n",
      "Thread finished.\n"
     ]
    }
   ],
   "source": [
    "import threading\n",
    "\n",
    "# 定义一个函数作为线程的执行体\n",
    "def thread_function():\n",
    "    # 线程的具体操作逻辑\n",
    "    print(\"Thread is running.\")\n",
    "\n",
    "# 创建一个线程对象\n",
    "thread = threading.Thread(target=thread_function)\n",
    "\n",
    "# 启动线程\n",
    "thread.start()\n",
    "\n",
    "# 主线程继续执行其他操作\n",
    "print(\"Main thread continues.\")\n",
    "\n",
    "# 等待线程结束\n",
    "thread.join()\n",
    "\n",
    "# 线程结束后执行的操作\n",
    "print(\"Thread finished.\")"
   ]
  },
  {
   "cell_type": "code",
   "execution_count": null,
   "id": "c16e5199",
   "metadata": {},
   "outputs": [],
   "source": []
  }
 ],
 "metadata": {
  "kernelspec": {
   "display_name": "Python 3 (ipykernel)",
   "language": "python",
   "name": "python3"
  },
  "language_info": {
   "codemirror_mode": {
    "name": "ipython",
    "version": 3
   },
   "file_extension": ".py",
   "mimetype": "text/x-python",
   "name": "python",
   "nbconvert_exporter": "python",
   "pygments_lexer": "ipython3",
   "version": "3.10.9"
  }
 },
 "nbformat": 4,
 "nbformat_minor": 5
}
